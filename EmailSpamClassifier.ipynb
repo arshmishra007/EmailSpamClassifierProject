{
 "cells": [
  {
   "cell_type": "markdown",
   "id": "5719ccf4-3a76-4a87-ac9d-b11c9f17b0a6",
   "metadata": {},
   "source": [
    "### Import Libraries "
   ]
  },
  {
   "cell_type": "code",
   "execution_count": 1,
   "id": "a1bb515c-fa95-496b-94f4-9a87d0b8c3d9",
   "metadata": {},
   "outputs": [],
   "source": [
    "import pandas as pd\n",
    "import numpy as np\n",
    "import re\n",
    "import joblib\n",
    "import matplotlib.pyplot as plt\n",
    "from sklearn.model_selection import train_test_split\n",
    "from sklearn.feature_extraction.text import CountVectorizer\n",
    "from sklearn.naive_bayes import MultinomialNB, BernoulliNB\n",
    "from sklearn.metrics import accuracy_score, classification_report , roc_curve, auc\n",
    "import warnings\n",
    "warnings.filterwarnings('ignore')"
   ]
  },
  {
   "cell_type": "markdown",
   "id": "3c13f0a5-0770-452f-a392-6962586c84ab",
   "metadata": {},
   "source": [
    "### Data Loading and Preprocessing "
   ]
  },
  {
   "cell_type": "code",
   "execution_count": 2,
   "id": "216f5ea7-8bb0-4d0c-b504-706fc7b0ab96",
   "metadata": {},
   "outputs": [],
   "source": [
    "docs = pd.read_csv(\"Datasets\\smsspamcollection.csv\",header=None,names = ['Class','SMS'])"
   ]
  },
  {
   "cell_type": "code",
   "execution_count": 3,
   "id": "d3b1dec1-0f47-4c7b-a96d-e9616e01c5c8",
   "metadata": {},
   "outputs": [
    {
     "data": {
      "text/html": [
       "<div>\n",
       "<style scoped>\n",
       "    .dataframe tbody tr th:only-of-type {\n",
       "        vertical-align: middle;\n",
       "    }\n",
       "\n",
       "    .dataframe tbody tr th {\n",
       "        vertical-align: top;\n",
       "    }\n",
       "\n",
       "    .dataframe thead th {\n",
       "        text-align: right;\n",
       "    }\n",
       "</style>\n",
       "<table border=\"1\" class=\"dataframe\">\n",
       "  <thead>\n",
       "    <tr style=\"text-align: right;\">\n",
       "      <th></th>\n",
       "      <th>Class</th>\n",
       "      <th>SMS</th>\n",
       "    </tr>\n",
       "  </thead>\n",
       "  <tbody>\n",
       "    <tr>\n",
       "      <th>0</th>\n",
       "      <td>ham</td>\n",
       "      <td>Go until jurong point, crazy.. Available only ...</td>\n",
       "    </tr>\n",
       "    <tr>\n",
       "      <th>1</th>\n",
       "      <td>ham</td>\n",
       "      <td>Ok lar... Joking wif u oni...</td>\n",
       "    </tr>\n",
       "    <tr>\n",
       "      <th>2</th>\n",
       "      <td>spam</td>\n",
       "      <td>Free entry in 2 a wkly comp to win FA Cup fina...</td>\n",
       "    </tr>\n",
       "    <tr>\n",
       "      <th>3</th>\n",
       "      <td>ham</td>\n",
       "      <td>U dun say so early hor... U c already then say...</td>\n",
       "    </tr>\n",
       "    <tr>\n",
       "      <th>4</th>\n",
       "      <td>ham</td>\n",
       "      <td>Nah I don't think he goes to usf, he lives aro...</td>\n",
       "    </tr>\n",
       "    <tr>\n",
       "      <th>...</th>\n",
       "      <td>...</td>\n",
       "      <td>...</td>\n",
       "    </tr>\n",
       "    <tr>\n",
       "      <th>5567</th>\n",
       "      <td>spam</td>\n",
       "      <td>This is the 2nd time we have tried 2 contact u...</td>\n",
       "    </tr>\n",
       "    <tr>\n",
       "      <th>5568</th>\n",
       "      <td>ham</td>\n",
       "      <td>Will ü b going to esplanade fr home?</td>\n",
       "    </tr>\n",
       "    <tr>\n",
       "      <th>5569</th>\n",
       "      <td>ham</td>\n",
       "      <td>Pity, * was in mood for that. So...any other s...</td>\n",
       "    </tr>\n",
       "    <tr>\n",
       "      <th>5570</th>\n",
       "      <td>ham</td>\n",
       "      <td>The guy did some bitching but I acted like i'd...</td>\n",
       "    </tr>\n",
       "    <tr>\n",
       "      <th>5571</th>\n",
       "      <td>ham</td>\n",
       "      <td>Rofl. Its true to its name</td>\n",
       "    </tr>\n",
       "  </tbody>\n",
       "</table>\n",
       "<p>5572 rows × 2 columns</p>\n",
       "</div>"
      ],
      "text/plain": [
       "     Class                                                SMS\n",
       "0      ham  Go until jurong point, crazy.. Available only ...\n",
       "1      ham                      Ok lar... Joking wif u oni...\n",
       "2     spam  Free entry in 2 a wkly comp to win FA Cup fina...\n",
       "3      ham  U dun say so early hor... U c already then say...\n",
       "4      ham  Nah I don't think he goes to usf, he lives aro...\n",
       "...    ...                                                ...\n",
       "5567  spam  This is the 2nd time we have tried 2 contact u...\n",
       "5568   ham               Will ü b going to esplanade fr home?\n",
       "5569   ham  Pity, * was in mood for that. So...any other s...\n",
       "5570   ham  The guy did some bitching but I acted like i'd...\n",
       "5571   ham                         Rofl. Its true to its name\n",
       "\n",
       "[5572 rows x 2 columns]"
      ]
     },
     "execution_count": 3,
     "metadata": {},
     "output_type": "execute_result"
    }
   ],
   "source": [
    "docs"
   ]
  },
  {
   "cell_type": "markdown",
   "id": "0ed1994f-1699-43bd-a4e7-63eb08223d21",
   "metadata": {},
   "source": [
    "### Checking the percentage of Ham & Spam distribution class"
   ]
  },
  {
   "cell_type": "code",
   "execution_count": 4,
   "id": "96421456-81c8-470a-84fd-d927a59d1c56",
   "metadata": {},
   "outputs": [
    {
     "data": {
      "text/plain": [
       "Class\n",
       "ham     0.865937\n",
       "spam    0.134063\n",
       "Name: proportion, dtype: float64"
      ]
     },
     "execution_count": 4,
     "metadata": {},
     "output_type": "execute_result"
    }
   ],
   "source": [
    "docs.Class.value_counts(normalize=True)"
   ]
  },
  {
   "cell_type": "markdown",
   "id": "be5e7088-da42-4c88-8188-a5930a9322d8",
   "metadata": {},
   "source": [
    "### Spam Class is around 13 percent in the data since the dataset is imbalanced (only 13% spam), we can use SMOTE (Synthetic Minority Over-sampling Technique) to balance it by generating synthetic spam samples."
   ]
  },
  {
   "cell_type": "markdown",
   "id": "afc9c9c6-4b4a-495c-9c59-d68e79dfb3b9",
   "metadata": {},
   "source": [
    "### Convert labels to 0 (ham) and 1 (spam)"
   ]
  },
  {
   "cell_type": "code",
   "execution_count": 5,
   "id": "ff31b6e0-7102-4596-b6c3-c67d9fc26f19",
   "metadata": {},
   "outputs": [],
   "source": [
    "docs.Class = docs.Class.map({'ham':0,'spam':1})"
   ]
  },
  {
   "cell_type": "code",
   "execution_count": 6,
   "id": "7f453f8b-e4ed-4366-8873-5042678e37fa",
   "metadata": {},
   "outputs": [
    {
     "data": {
      "text/html": [
       "<div>\n",
       "<style scoped>\n",
       "    .dataframe tbody tr th:only-of-type {\n",
       "        vertical-align: middle;\n",
       "    }\n",
       "\n",
       "    .dataframe tbody tr th {\n",
       "        vertical-align: top;\n",
       "    }\n",
       "\n",
       "    .dataframe thead th {\n",
       "        text-align: right;\n",
       "    }\n",
       "</style>\n",
       "<table border=\"1\" class=\"dataframe\">\n",
       "  <thead>\n",
       "    <tr style=\"text-align: right;\">\n",
       "      <th></th>\n",
       "      <th>Class</th>\n",
       "      <th>SMS</th>\n",
       "    </tr>\n",
       "  </thead>\n",
       "  <tbody>\n",
       "    <tr>\n",
       "      <th>0</th>\n",
       "      <td>0</td>\n",
       "      <td>Go until jurong point, crazy.. Available only ...</td>\n",
       "    </tr>\n",
       "    <tr>\n",
       "      <th>1</th>\n",
       "      <td>0</td>\n",
       "      <td>Ok lar... Joking wif u oni...</td>\n",
       "    </tr>\n",
       "    <tr>\n",
       "      <th>2</th>\n",
       "      <td>1</td>\n",
       "      <td>Free entry in 2 a wkly comp to win FA Cup fina...</td>\n",
       "    </tr>\n",
       "    <tr>\n",
       "      <th>3</th>\n",
       "      <td>0</td>\n",
       "      <td>U dun say so early hor... U c already then say...</td>\n",
       "    </tr>\n",
       "    <tr>\n",
       "      <th>4</th>\n",
       "      <td>0</td>\n",
       "      <td>Nah I don't think he goes to usf, he lives aro...</td>\n",
       "    </tr>\n",
       "  </tbody>\n",
       "</table>\n",
       "</div>"
      ],
      "text/plain": [
       "   Class                                                SMS\n",
       "0      0  Go until jurong point, crazy.. Available only ...\n",
       "1      0                      Ok lar... Joking wif u oni...\n",
       "2      1  Free entry in 2 a wkly comp to win FA Cup fina...\n",
       "3      0  U dun say so early hor... U c already then say...\n",
       "4      0  Nah I don't think he goes to usf, he lives aro..."
      ]
     },
     "execution_count": 6,
     "metadata": {},
     "output_type": "execute_result"
    }
   ],
   "source": [
    "docs.head()"
   ]
  },
  {
   "cell_type": "markdown",
   "id": "6338dd68-4337-45d9-b983-facc91513354",
   "metadata": {},
   "source": [
    "### Text Processing "
   ]
  },
  {
   "cell_type": "code",
   "execution_count": 7,
   "id": "30e1904a-8cf4-4818-86df-0ea4fed0009d",
   "metadata": {},
   "outputs": [],
   "source": [
    "def cleaning_text(text):\n",
    "    #converting to lowercase first \n",
    "    text = text.lower()\n",
    "    # removing any special characters -> substutuing the special characters with blank\n",
    "    text = re.sub(r'[^a-z0-9]',' ',text)\n",
    "    return text"
   ]
  },
  {
   "cell_type": "code",
   "execution_count": 8,
   "id": "3dc1509a-f459-4580-91c1-9cf01e7c90bd",
   "metadata": {},
   "outputs": [],
   "source": [
    "docs['SMS'] = docs['SMS'].apply(cleaning_text)"
   ]
  },
  {
   "cell_type": "code",
   "execution_count": 9,
   "id": "c8ad01ac-d644-475a-b406-18e941c32d28",
   "metadata": {},
   "outputs": [
    {
     "data": {
      "text/plain": [
       "0    go until jurong point  crazy   available only ...\n",
       "1                        ok lar    joking wif u oni   \n",
       "2    free entry in 2 a wkly comp to win fa cup fina...\n",
       "3    u dun say so early hor    u c already then say   \n",
       "4    nah i don t think he goes to usf  he lives aro...\n",
       "Name: SMS, dtype: object"
      ]
     },
     "execution_count": 9,
     "metadata": {},
     "output_type": "execute_result"
    }
   ],
   "source": [
    "# checking the top 5 records \n",
    "docs['SMS'].head()"
   ]
  },
  {
   "cell_type": "markdown",
   "id": "d3df9445-0731-41d8-9532-17feeeed8ae9",
   "metadata": {},
   "source": [
    "### Feature Extraction using count vectorizer"
   ]
  },
  {
   "cell_type": "code",
   "execution_count": 10,
   "id": "da31f42d-093c-4aa7-9414-decd86740f38",
   "metadata": {},
   "outputs": [],
   "source": [
    "# usign stopwords english in order to remove the irrelevant words and allowing max words in vocaulary to be 5k\n",
    "vectorizer = CountVectorizer(stop_words='english', max_features=5000)"
   ]
  },
  {
   "cell_type": "markdown",
   "id": "3703f51f-a974-4e4e-8bad-070dd9c67bcb",
   "metadata": {},
   "source": [
    "### Splitting the dataset into X and y"
   ]
  },
  {
   "cell_type": "code",
   "execution_count": 11,
   "id": "17e5710b-444a-4cf7-93eb-0c936e9acc67",
   "metadata": {},
   "outputs": [],
   "source": [
    "X = docs['SMS']\n",
    "y = docs.Class"
   ]
  },
  {
   "cell_type": "markdown",
   "id": "fcd6a093-7b7d-4f92-8972-6b167251ce73",
   "metadata": {},
   "source": [
    "### Splitting the data into train and test set"
   ]
  },
  {
   "cell_type": "code",
   "execution_count": 12,
   "id": "4e426eb9-5c05-40cf-a257-f3327b63f6ae",
   "metadata": {},
   "outputs": [],
   "source": [
    "X_train , X_test , y_train , y_test = train_test_split(X,y,test_size=0.2,random_state=21)"
   ]
  },
  {
   "cell_type": "code",
   "execution_count": 13,
   "id": "82e4b9f1-7bac-423d-9633-fd1b5ac4ab29",
   "metadata": {},
   "outputs": [
    {
     "name": "stdout",
     "output_type": "stream",
     "text": [
      "Training Data Shape (4457,) and Test Data Shape (1115,)\n"
     ]
    }
   ],
   "source": [
    "print(f\"Training Data Shape {X_train.shape} and Test Data Shape {X_test.shape}\")"
   ]
  },
  {
   "cell_type": "markdown",
   "id": "68cb9a96-01ee-4161-92c2-399ebcda9c13",
   "metadata": {},
   "source": [
    "### Applying transformation using vectorizer "
   ]
  },
  {
   "cell_type": "code",
   "execution_count": 14,
   "id": "3e43b2de-75b7-4c1f-ac0f-e13ca2f596de",
   "metadata": {},
   "outputs": [],
   "source": [
    "X_train_transformed = vectorizer.fit_transform(X_train)\n",
    "X_test_transformed = vectorizer.transform(X_test)"
   ]
  },
  {
   "cell_type": "markdown",
   "id": "bdeff415-90e5-4926-a349-7596b8414871",
   "metadata": {},
   "source": [
    "### Applying SMOTE on the training set to create the synthetic data"
   ]
  },
  {
   "cell_type": "code",
   "execution_count": 15,
   "id": "00ebb60e-c739-4c6b-a79a-a1dbbfa7eef5",
   "metadata": {},
   "outputs": [],
   "source": [
    "from imblearn.over_sampling import SMOTE\n",
    "smote = SMOTE(random_state=42)\n",
    "X_train_resampled, y_train_resampled = smote.fit_resample(X_train_transformed, y_train)"
   ]
  },
  {
   "cell_type": "code",
   "execution_count": 16,
   "id": "b95bcce1-b2ad-454b-8a39-b2181a3186fb",
   "metadata": {},
   "outputs": [
    {
     "name": "stdout",
     "output_type": "stream",
     "text": [
      "X_train_transformed shape (4457, 5000) , X_train_resampled shape (7730, 5000)\n"
     ]
    }
   ],
   "source": [
    "print(f\"X_train_transformed shape {X_train_transformed.shape} , X_train_resampled shape {X_train_resampled.shape}\")"
   ]
  },
  {
   "cell_type": "markdown",
   "id": "0a5e872a-4cbb-4010-b6cf-4fe7b4705b52",
   "metadata": {},
   "source": [
    "### Model Building "
   ]
  },
  {
   "cell_type": "code",
   "execution_count": 17,
   "id": "2e8cb403-0984-4fa4-8ebf-9ffc4838ac56",
   "metadata": {},
   "outputs": [],
   "source": [
    "mnb = MultinomialNB()\n",
    "mnb.fit(X_train_resampled, y_train_resampled)\n",
    "y_pred_mnb = mnb.predict(X_test_transformed)\n",
    "# taking the probaility of the spam class\n",
    "y_pred_prob_mnb = mnb.predict_proba(X_test_transformed)[:, 1]"
   ]
  },
  {
   "cell_type": "code",
   "execution_count": 18,
   "id": "383a38b4-5a1f-42f6-830e-d6224adacd7b",
   "metadata": {},
   "outputs": [],
   "source": [
    "bnb = BernoulliNB()\n",
    "bnb.fit(X_train_resampled, y_train_resampled)\n",
    "y_pred_bnb = bnb.predict(X_test_transformed)\n",
    "# taking the probaility of the spam class\n",
    "y_pred_prob_bnb = bnb.predict_proba(X_test_transformed)[:, 1]"
   ]
  },
  {
   "cell_type": "markdown",
   "id": "a35e743e-a6ca-4f74-9e62-96c8aac77d5d",
   "metadata": {},
   "source": [
    "## Model Evaluation"
   ]
  },
  {
   "cell_type": "code",
   "execution_count": 19,
   "id": "1d376dab-84ce-4b28-999b-eed19fa5ff35",
   "metadata": {},
   "outputs": [
    {
     "name": "stdout",
     "output_type": "stream",
     "text": [
      "Multinomial Naïve Bayes:\n",
      "              precision    recall  f1-score   support\n",
      "\n",
      "           0       0.99      0.98      0.99       960\n",
      "           1       0.90      0.94      0.92       155\n",
      "\n",
      "    accuracy                           0.98      1115\n",
      "   macro avg       0.94      0.96      0.95      1115\n",
      "weighted avg       0.98      0.98      0.98      1115\n",
      "\n",
      "Accuracy: 0.9766816143497757\n",
      "\n",
      "Bernoulli Naïve Bayes:\n",
      "              precision    recall  f1-score   support\n",
      "\n",
      "           0       0.99      0.99      0.99       960\n",
      "           1       0.92      0.95      0.93       155\n",
      "\n",
      "    accuracy                           0.98      1115\n",
      "   macro avg       0.96      0.97      0.96      1115\n",
      "weighted avg       0.98      0.98      0.98      1115\n",
      "\n",
      "Accuracy: 0.9811659192825112\n"
     ]
    }
   ],
   "source": [
    "print(\"Multinomial Naïve Bayes:\")\n",
    "print(classification_report(y_test, y_pred_mnb))\n",
    "print(\"Accuracy:\", accuracy_score(y_test, y_pred_mnb))\n",
    "\n",
    "print(\"\\nBernoulli Naïve Bayes:\")\n",
    "print(classification_report(y_test, y_pred_bnb))\n",
    "print(\"Accuracy:\", accuracy_score(y_test, y_pred_bnb))"
   ]
  },
  {
   "cell_type": "markdown",
   "id": "5b9fc51a-48bb-4a27-a9b9-83e8f652d4f1",
   "metadata": {},
   "source": [
    "### ROC Curves"
   ]
  },
  {
   "cell_type": "code",
   "execution_count": 20,
   "id": "f6ca22cb-e787-423a-bcb5-322846d1c5e6",
   "metadata": {},
   "outputs": [],
   "source": [
    "fpr_mnb, tpr_mnb, thresholds = roc_curve(y_test, y_pred_prob_mnb)\n",
    "roc_auc_mnb = auc(fpr_mnb, tpr_mnb)"
   ]
  },
  {
   "cell_type": "code",
   "execution_count": 21,
   "id": "e58eb5a8-d4c4-4f76-81ab-440499baeb02",
   "metadata": {},
   "outputs": [],
   "source": [
    "fpr_bnb, tpr_bnb, _ = roc_curve(y_test, y_pred_prob_bnb)\n",
    "roc_auc_bnb = auc(fpr_bnb, tpr_bnb)"
   ]
  },
  {
   "cell_type": "code",
   "execution_count": 22,
   "id": "46711c55-d97b-40a4-a7be-a5825c355b48",
   "metadata": {},
   "outputs": [
    {
     "data": {
      "image/png": "[encoded data removed]",
      "text/plain": [
       "<Figure size 1200x600 with 1 Axes>"
      ]
     },
     "metadata": {},
     "output_type": "display_data"
    }
   ],
   "source": [
    "plt.figure(figsize=(12,6))\n",
    "plt.plot(fpr_mnb, tpr_mnb, color='blue', lw=2, label='Multinomial NB (AUC = %0.2f)' % roc_auc_mnb)\n",
    "plt.plot(fpr_bnb, tpr_bnb, color='red', lw=2, label='Bernoulli NB (AUC = %0.2f)' % roc_auc_bnb)\n",
    "plt.plot([0, 1], [0, 1], color='grey', linestyle='--')\n",
    "plt.xlabel('False Positive Rate')\n",
    "plt.ylabel('True Positive Rate')\n",
    "plt.title('Receiver Operating Characteristic (ROC) Curve')\n",
    "plt.legend(loc='lower right')\n",
    "plt.show()\n"
   ]
  },
  {
   "cell_type": "markdown",
   "id": "8756e7f5-cd8a-4ec5-849d-534beeeb7ae5",
   "metadata": {},
   "source": [
    "### Testing on New Sentences "
   ]
  },
  {
   "cell_type": "code",
   "execution_count": 23,
   "id": "be100e85-ed21-4f09-b2b7-1b6b1a86fa92",
   "metadata": {},
   "outputs": [],
   "source": [
    "def predict_spam(messages):\n",
    "    messages = [cleaning_text(msg) for msg in messages]\n",
    "    msg_vectors = vectorizer.transform(messages)\n",
    "    predictions = mnb.predict(msg_vectors)\n",
    "    return [\"Spam\" if pred == 1 else \"Ham\" for pred in predictions]"
   ]
  },
  {
   "cell_type": "code",
   "execution_count": 24,
   "id": "bc6f22b7-03cb-4b7e-9c58-97faeb589682",
   "metadata": {},
   "outputs": [],
   "source": [
    "test_messages = [\n",
    "    \"Congratulations! You have won a free lottery. Click here to claim.\",\n",
    "    \"Hey, are we still on for dinner tonight?\",\n",
    "    \"Urgent! Your account has been compromised. Reset your password now.\",\n",
    "    \"Can you send me the assignment notes?\",\n",
    "    \"Lets go for shopping\",\n",
    "    \"Clink on the link below to get discount\"\n",
    "]"
   ]
  },
  {
   "cell_type": "code",
   "execution_count": 25,
   "id": "4b87335f-1040-446d-bfd6-d7d65aaec8b3",
   "metadata": {},
   "outputs": [],
   "source": [
    "results = predict_spam(test_messages)"
   ]
  },
  {
   "cell_type": "code",
   "execution_count": 26,
   "id": "b3151d54-0281-4eda-a48b-7bef77408b95",
   "metadata": {},
   "outputs": [
    {
     "data": {
      "text/plain": [
       "['Spam', 'Ham', 'Spam', 'Spam', 'Ham', 'Spam']"
      ]
     },
     "execution_count": 26,
     "metadata": {},
     "output_type": "execute_result"
    }
   ],
   "source": [
    "results"
   ]
  },
  {
   "cell_type": "code",
   "execution_count": 27,
   "id": "ed6507e7-187f-410d-a5c3-2d8e50d57ee1",
   "metadata": {},
   "outputs": [
    {
     "name": "stdout",
     "output_type": "stream",
     "text": [
      "Message: Congratulations! You have won a free lottery. Click here to claim.\n",
      "Prediction: Spam\n",
      "\n",
      "Message: Hey, are we still on for dinner tonight?\n",
      "Prediction: Ham\n",
      "\n",
      "Message: Urgent! Your account has been compromised. Reset your password now.\n",
      "Prediction: Spam\n",
      "\n",
      "Message: Can you send me the assignment notes?\n",
      "Prediction: Spam\n",
      "\n",
      "Message: Lets go for shopping\n",
      "Prediction: Ham\n",
      "\n",
      "Message: Clink on the link below to get discount\n",
      "Prediction: Spam\n",
      "\n"
     ]
    }
   ],
   "source": [
    "for msg, res in zip(test_messages, results):\n",
    "    print(f\"Message: {msg}\\nPrediction: {res}\\n\")"
   ]
  },
  {
   "cell_type": "code",
   "execution_count": null,
   "id": "00a02513-2d09-44d2-90c9-714e20085c8c",
   "metadata": {},
   "outputs": [],
   "source": []
  },
  {
   "cell_type": "code",
   "execution_count": null,
   "id": "11a92525-7b78-485f-9013-307283f1e995",
   "metadata": {},
   "outputs": [],
   "source": []
  },
  {
   "cell_type": "code",
   "execution_count": null,
   "id": "dcd35639-e437-415a-9a07-448251f10856",
   "metadata": {},
   "outputs": [],
   "source": []
  }
 ],
 "metadata": {
  "kernelspec": {
   "display_name": "Python 3 (ipykernel)",
   "language": "python",
   "name": "python3"
  },
  "language_info": {
   "codemirror_mode": {
    "name": "ipython",
    "version": 3
   },
   "file_extension": ".py",
   "mimetype": "text/x-python",
   "name": "python",
   "nbconvert_exporter": "python",
   "pygments_lexer": "ipython3",
   "version": "3.12.1"
  }
 },
 "nbformat": 4,
 "nbformat_minor": 5
}
